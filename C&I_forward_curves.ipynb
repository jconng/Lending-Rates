{
 "cells": [
  {
   "cell_type": "markdown",
   "id": "7fd27101",
   "metadata": {},
   "source": [
    "## Forward curves \n",
    "Get three different rates as forward curves to calculate floating and adjustable payments.  Three rates:\n",
    "1. SOFR 1 month\n",
    "2. SOFT 3 month\n",
    "3. Libor 1 month\n"
   ]
  },
  {
   "cell_type": "code",
   "execution_count": 54,
   "id": "116aeea9",
   "metadata": {},
   "outputs": [],
   "source": [
    "import requests\n",
    "import pandas as pd\n",
    "from bs4 import BeautifulSoup\n",
    "from datetime import datetime"
   ]
  },
  {
   "cell_type": "code",
   "execution_count": 39,
   "id": "b0fd2342",
   "metadata": {},
   "outputs": [
    {
     "name": "stdout",
     "output_type": "stream",
     "text": [
      "Classes of each table:\n",
      "curve-table\n"
     ]
    }
   ],
   "source": [
    "# Get forward curves, SOFR and LIBOR\n",
    "#https://www.pensford.com/resources/forward-curve\n",
    "\n",
    "url = \"https://www.pensford.com/resources/forward-curve\"\n",
    "data = requests.get(url).text\n",
    "\n",
    "# Creating BeautifulSoup object\n",
    "soup = BeautifulSoup(data, 'html.parser')\n",
    "\n",
    "print('Classes of each table:')\n",
    "for table in soup.find_all('table'):\n",
    "    print(table.get('id'))"
   ]
  },
  {
   "cell_type": "code",
   "execution_count": 52,
   "id": "18ac4aff",
   "metadata": {},
   "outputs": [],
   "source": [
    "# Creating list with all tables\n",
    "# tables = soup.find_all('table')\n",
    "\n",
    "#  Looking for the table with the id 'curve-table'\n",
    "table = soup.find('table', id='curve-table')\n",
    "\n",
    "# Defining of the dataframe\n",
    "df = pd.DataFrame(columns=['Date','SOFR_1m','SOFR_3m','LIBOR_1m'])\n",
    "\n",
    "# Collecting Data\n",
    "for row in table.tbody.find_all('tr'):    \n",
    "    # Find all data for each column\n",
    "    columns = row.find_all('td')\n",
    "    \n",
    "    if(columns != []):\n",
    "        date = datetime.strptime(columns[0].text, '%m/%d/%Y')\n",
    "        sofr_1m = float(columns[1].text.strip('%'))/100\n",
    "        sofr_3m = float(columns[2].text.strip('%'))/100\n",
    "        libor_1m = float(columns[3].text.strip('%'))/100\n",
    "        df = df.append({'Date': date, 'SOFR_1m': sofr_1m, 'SOFR_3m': sofr_3m, 'LIBOR_1m': libor_1m}, ignore_index=True)\n",
    "        "
   ]
  },
  {
   "cell_type": "code",
   "execution_count": 56,
   "id": "85b1667b",
   "metadata": {},
   "outputs": [
    {
     "data": {
      "text/html": [
       "<div>\n",
       "<style scoped>\n",
       "    .dataframe tbody tr th:only-of-type {\n",
       "        vertical-align: middle;\n",
       "    }\n",
       "\n",
       "    .dataframe tbody tr th {\n",
       "        vertical-align: top;\n",
       "    }\n",
       "\n",
       "    .dataframe thead th {\n",
       "        text-align: right;\n",
       "    }\n",
       "</style>\n",
       "<table border=\"1\" class=\"dataframe\">\n",
       "  <thead>\n",
       "    <tr style=\"text-align: right;\">\n",
       "      <th></th>\n",
       "      <th>Date</th>\n",
       "      <th>SOFR_1m</th>\n",
       "      <th>SOFR_3m</th>\n",
       "      <th>LIBOR_1m</th>\n",
       "    </tr>\n",
       "  </thead>\n",
       "  <tbody>\n",
       "    <tr>\n",
       "      <th>0</th>\n",
       "      <td>2022-06-21</td>\n",
       "      <td>0.0151</td>\n",
       "      <td>0.0193</td>\n",
       "      <td>0.0161</td>\n",
       "    </tr>\n",
       "    <tr>\n",
       "      <th>1</th>\n",
       "      <td>2022-07-21</td>\n",
       "      <td>0.0205</td>\n",
       "      <td>0.0235</td>\n",
       "      <td>0.0224</td>\n",
       "    </tr>\n",
       "    <tr>\n",
       "      <th>2</th>\n",
       "      <td>2022-08-21</td>\n",
       "      <td>0.0220</td>\n",
       "      <td>0.0270</td>\n",
       "      <td>0.0226</td>\n",
       "    </tr>\n",
       "    <tr>\n",
       "      <th>3</th>\n",
       "      <td>2022-09-21</td>\n",
       "      <td>0.0282</td>\n",
       "      <td>0.0308</td>\n",
       "      <td>0.0322</td>\n",
       "    </tr>\n",
       "    <tr>\n",
       "      <th>4</th>\n",
       "      <td>2022-10-21</td>\n",
       "      <td>0.0307</td>\n",
       "      <td>0.0330</td>\n",
       "      <td>0.0322</td>\n",
       "    </tr>\n",
       "  </tbody>\n",
       "</table>\n",
       "</div>"
      ],
      "text/plain": [
       "        Date  SOFR_1m  SOFR_3m  LIBOR_1m\n",
       "0 2022-06-21   0.0151   0.0193    0.0161\n",
       "1 2022-07-21   0.0205   0.0235    0.0224\n",
       "2 2022-08-21   0.0220   0.0270    0.0226\n",
       "3 2022-09-21   0.0282   0.0308    0.0322\n",
       "4 2022-10-21   0.0307   0.0330    0.0322"
      ]
     },
     "execution_count": 56,
     "metadata": {},
     "output_type": "execute_result"
    }
   ],
   "source": [
    "df.head()"
   ]
  },
  {
   "cell_type": "code",
   "execution_count": null,
   "id": "834d33dd",
   "metadata": {},
   "outputs": [],
   "source": []
  }
 ],
 "metadata": {
  "kernelspec": {
   "display_name": "Python 3 (ipykernel)",
   "language": "python",
   "name": "python3"
  },
  "language_info": {
   "codemirror_mode": {
    "name": "ipython",
    "version": 3
   },
   "file_extension": ".py",
   "mimetype": "text/x-python",
   "name": "python",
   "nbconvert_exporter": "python",
   "pygments_lexer": "ipython3",
   "version": "3.10.4"
  }
 },
 "nbformat": 4,
 "nbformat_minor": 5
}
